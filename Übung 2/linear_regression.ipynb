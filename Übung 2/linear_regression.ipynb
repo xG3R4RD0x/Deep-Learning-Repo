{
 "cells": [
  {
   "cell_type": "markdown",
   "metadata": {},
   "source": [
    "## Dataset loading and visualization"
   ]
  },
  {
   "cell_type": "code",
   "execution_count": 6,
   "metadata": {},
   "outputs": [],
   "source": [
    "import numpy as np\n",
    "%matplotlib inline\n",
    "import matplotlib.pyplot as plt\n",
    "max_x = 10\n",
    "\n",
    "dataset = np.load('linear_regression_dataset.npz')\n",
    "x, y = dataset['x'], dataset['y']\n",
    "dataset_size = x.shape[0]\n",
    "print(x.shape, y.shape)\n",
    "\n",
    "def plot(x, y, slope=None, offset_y=None):\n",
    "    plt.plot(x, y, 'o') # scatter plot of dataset\n",
    "    if slope is not None:\n",
    "        plt.plot([0, max_x], [offset_y, offset_y + max_x * slope]) # straight line defined by slope and offset_y\n",
    "    plt.show()\n",
    "\n",
    "plot(x, y)"
   ]
  },
  {
   "cell_type": "markdown",
   "metadata": {},
   "source": [
    "## Linear regression based on hand derived derivative\n",
    "Implement the `compute_derivatives` function."
   ]
  },
  {
   "cell_type": "code",
   "execution_count": null,
   "metadata": {
    "scrolled": true
   },
   "outputs": [],
   "source": [
    "# x.shape: (dataset size,)\n",
    "# y.shape: (dataset size,)\n",
    "# slope, offset_y: float\n",
    "def compute_derivatives(x, y, slope, offset_y):\n",
    "    pass\n",
    "\n",
    "def compute_error(x, y, slope, offset_y):\n",
    "    error = 0\n",
    "    for i in range(dataset_size):\n",
    "        error += (offset_y + slope * x[i] - y[i]) ** 2\n",
    "    error /= dataset_size\n",
    "    return error\n",
    "\n",
    "slope = 4 # our inital guess for the slope parameter\n",
    "offset_y = 1 # our inital guess for the offset parameter\n",
    "print('plot before training')\n",
    "plot(x, y, slope, offset_y)\n",
    "num_steps = 100000\n",
    "learning_rate = 0.0001\n",
    "for iteration in range(1, num_steps + 1):\n",
    "    slope_derivative, offset_y_derivative = compute_derivatives(x, y, slope, offset_y)\n",
    "    slope = slope - learning_rate * slope_derivative\n",
    "    offset_y = offset_y - learning_rate * offset_y_derivative\n",
    "    if iteration in [100, 200, 500, 1000, 5000] or iteration % 10000 == 0:\n",
    "        print('iter: {}, slope: {}, offset_y: {}, error: {}'.format(iteration, slope, offset_y,\n",
    "              compute_error(x, y, slope, offset_y)))\n",
    "    if iteration in [500, 20000, 50000]:\n",
    "        plot(x, y, slope, offset_y)\n",
    "print('plot after training')\n",
    "plot(x, y, slope, offset_y)"
   ]
  },
  {
   "cell_type": "markdown",
   "metadata": {},
   "source": [
    "## Closed form solution for linear regression\n",
    "Implement the `compute_weights_cf` function."
   ]
  },
  {
   "cell_type": "code",
   "execution_count": null,
   "metadata": {},
   "outputs": [],
   "source": [
    "X = np.concatenate([x[:, np.newaxis], np.ones((len(x), 1))], axis=-1)\n",
    "\n",
    "# X.shape: (dataset size, 2)\n",
    "# y.shape: (dataset size,)\n",
    "def compute_weights_cf(X, y):\n",
    "   pass\n",
    "\n",
    "w = compute_weights_cf(X, y)\n",
    "\n",
    "# plot the solution and calculate the error using the functions from part b)"
   ]
  },
  {
   "cell_type": "markdown",
   "metadata": {},
   "source": [
    "## Linear regression based on EDF\n",
    "\n",
    "Implement the `forward` and `backward` method of the class `L2Loss`. Take a look at `edf.py` for inspiration."
   ]
  },
  {
   "cell_type": "code",
   "execution_count": null,
   "metadata": {},
   "outputs": [],
   "source": [
    "import edf\n",
    "\n",
    "# y shape: (batch size, 1)\n",
    "# y_hat shape: (batch size, 1)\n",
    "# output shape: (batch size, 1)\n",
    "class L2Loss(edf.CompNode):\n",
    "    def __init__(self, y, y_hat):\n",
    "        edf.CompNodes.append(self)\n",
    "        self.y = y\n",
    "        self.y_hat = y_hat\n",
    "\n",
    "    def forward(self):\n",
    "        pass\n",
    "\n",
    "    def backward(self):\n",
    "        pass"
   ]
  },
  {
   "cell_type": "markdown",
   "metadata": {},
   "source": [
    "### Definition of EDF's computation graph\n",
    "Use EDF to assemble a computational graph for linear regression with the \"mean\" images as input. You will need the `L2Loss` node that you implemented above. Define the variables `affine_params`, `x_node`, `y_node` and `loss_node`, which the function `train` below expects as input."
   ]
  },
  {
   "cell_type": "code",
   "execution_count": null,
   "metadata": {},
   "outputs": [],
   "source": [
    "edf.clear_compgraph()\n",
    "# Define the computational graph for Linear Regression below this line in this cell"
   ]
  },
  {
   "cell_type": "code",
   "execution_count": 5,
   "metadata": {
    "scrolled": true
   },
   "outputs": [],
   "source": [
    "def train(num_steps, x, y, affine_params, x_node, y_node, loss_node):\n",
    "    affine_params.A.value[0, 0] = 4 # manually overwrite EDF's random initalization to get consistent results\n",
    "    affine_params.b.value[0] = 1\n",
    "    x_node.value = x.reshape(-1, 1)\n",
    "    y_node.value = y.reshape(-1, 1)\n",
    "    for iteration in range(1, num_steps + 1):\n",
    "        edf.Forward()\n",
    "        edf.Backward(loss_node)\n",
    "        edf.UpdateParameters()\n",
    "        error = np.sum(loss_node.value) / dataset_size\n",
    "        slope = affine_params.A.value[0, 0]\n",
    "        offset_y = affine_params.b.value[0]\n",
    "        if iteration in [100, 200, 500, 1000, 5000] or iteration % 10000 == 0:\n",
    "            print('iter: {}, slope: {}, offset_y: {}, error: {}'.format(iteration, slope, offset_y, error))\n",
    "\n",
    "edf.learning_rate = learning_rate\n",
    "train(num_steps, x, y, affine_params, x_node, y_node, loss_node)"
   ]
  }
 ],
 "metadata": {
  "kernelspec": {
   "display_name": "Python 3.10.6 ('deep_learning_ex_1')",
   "language": "python",
   "name": "python3"
  },
  "language_info": {
   "codemirror_mode": {
    "name": "ipython",
    "version": 3
   },
   "file_extension": ".py",
   "mimetype": "text/x-python",
   "name": "python",
   "nbconvert_exporter": "python",
   "pygments_lexer": "ipython3",
   "version": "3.10.6"
  },
  "vscode": {
   "interpreter": {
    "hash": "fbf269193f30e018c9747e2e2a0e9db3e86b8e95d339bce76102f5f0363ca318"
   }
  }
 },
 "nbformat": 4,
 "nbformat_minor": 4
}
