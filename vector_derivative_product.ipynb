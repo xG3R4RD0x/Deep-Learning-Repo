{
 "cells": [
  {
   "cell_type": "markdown",
   "metadata": {},
   "source": [
    "Implement the function `vector_derivative_product` according to the instructions given in exercise 1.1d)"
   ]
  },
  {
   "cell_type": "code",
   "execution_count": null,
   "metadata": {},
   "outputs": [],
   "source": [
    "import numpy as np\n",
    "\n",
    "# Implement this function without for loops but using broadcasting.\n",
    "def vector_derivative_product(A, x):\n",
    "    pass\n",
    "\n",
    "# The following code checks whether the implementation is correct.\n",
    "A = np.random.uniform(size=(1, 64))\n",
    "x = np.random.uniform(size=(32))\n",
    "result = vector_derivative_product(A, x)\n",
    "if result.shape != (A.shape[1], x.shape[0]):\n",
    "    print('The result has the wrong shape.')\n",
    "else:\n",
    "    correct = True\n",
    "    for i in range(result.shape[0]):\n",
    "        for j in range(result.shape[1]):\n",
    "            if result[i, j] != A[0, i] * x[j]:\n",
    "                correct = False\n",
    "                break\n",
    "    print('The result is {} correct.'.format('' if correct else 'not'))"
   ]
  }
 ],
 "metadata": {
  "kernelspec": {
   "display_name": "Python 3 (ipykernel)",
   "language": "python",
   "name": "python3"
  },
  "language_info": {
   "codemirror_mode": {
    "name": "ipython",
    "version": 3
   },
   "file_extension": ".py",
   "mimetype": "text/x-python",
   "name": "python",
   "nbconvert_exporter": "python",
   "pygments_lexer": "ipython3",
   "version": "3.10.6"
  }
 },
 "nbformat": 4,
 "nbformat_minor": 4
}
